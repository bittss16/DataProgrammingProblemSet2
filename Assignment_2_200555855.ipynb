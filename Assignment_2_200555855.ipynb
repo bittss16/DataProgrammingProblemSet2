{
  "nbformat": 4,
  "nbformat_minor": 0,
  "metadata": {
    "colab": {
      "provenance": [],
      "authorship_tag": "ABX9TyN7qa+Bsg1Gin2Ye6vR0xro",
      "include_colab_link": true
    },
    "kernelspec": {
      "name": "python3",
      "display_name": "Python 3"
    },
    "language_info": {
      "name": "python"
    }
  },
  "cells": [
    {
      "cell_type": "markdown",
      "metadata": {
        "id": "view-in-github",
        "colab_type": "text"
      },
      "source": [
        "<a href=\"https://colab.research.google.com/github/bittss16/DataProgrammingProblemSet2/blob/main/Assignment_2_200555855.ipynb\" target=\"_parent\"><img src=\"https://colab.research.google.com/assets/colab-badge.svg\" alt=\"Open In Colab\"/></a>"
      ]
    },
    {
      "cell_type": "markdown",
      "source": [
        "**QUESTION 1**\n",
        "\n",
        "Consider the following Python module, After importing the module into the interpreter, you execute following things...\n",
        "\n",
        "What value is displayed when the last expression (a) is evaluated? Explain your answer by indicating what happens in every executed statement."
      ],
      "metadata": {
        "id": "RSwf6dEQUtyk"
      }
    },
    {
      "cell_type": "code",
      "source": [
        "a = 0\n",
        "def b():\n",
        "  global a\n",
        "  a = c(a)\n",
        "def c(a):\n",
        "  return a + 2"
      ],
      "metadata": {
        "id": "zo_LUTfUVBx-"
      },
      "execution_count": 1,
      "outputs": []
    },
    {
      "cell_type": "code",
      "source": [
        "b()\n",
        "b()\n",
        "b()\n",
        "a"
      ],
      "metadata": {
        "colab": {
          "base_uri": "https://localhost:8080/"
        },
        "id": "SgFp_tluVFkO",
        "outputId": "f9bddcae-e291-4e6a-a31e-a9bd2e9b619e"
      },
      "execution_count": 2,
      "outputs": [
        {
          "output_type": "execute_result",
          "data": {
            "text/plain": [
              "6"
            ]
          },
          "metadata": {},
          "execution_count": 2
        }
      ]
    },
    {
      "cell_type": "markdown",
      "source": [
        "here,\n",
        "\n",
        "a = 0:\n",
        "The variable 'a' is assigned the value 0.\n",
        "Define b().\n",
        "This line defines a function named 'b'.\n",
        "global a:\n",
        "A function named b has a global variable \"a\". Here \"a\" is considered a global variable because it was declared outside the class scope.\n",
        "a = c(a):\n",
        "The function 'c' is called with the variable 'a' and passed as a again. So in this case the function \"c\" first gets the current value of a , declares it as \"a\" and assigns it as \"a\" again.\n",
        "Definition c(a):\n",
        "Function 'c' is defined as a function that takes the value 'a'. returns a+2:\n",
        "This returns the value of a incremented by 2.\n",
        "So the initial value of a is 0 and is declared global in function b. In c(a), the function \"c\" calls the original value of a, 0, but the return value of \"c(a)\" is \"a+2\", so the value of a becomes 2. , again assigned to '\n",
        "\n",
        "But the second time 'b' is called, 'a' is updated to 4. Similarly, when 'a' is called for the third time, it is updated again to 6.\n",
        "\n",
        "So when 'a' is called it shows the current value. In this case it is 6."
      ],
      "metadata": {
        "id": "LVXjFCIwVe6b"
      }
    },
    {
      "cell_type": "markdown",
      "source": [
        "***QUESTION 2***\n",
        "\n",
        "Function fileLength(), given to you, takes the name of a file as input and return the length of the file:\n",
        "\n",
        "As shown above, if the file cannot be found by the interpreter or if it cannot be read as a text file, an exception will be raised. Modify function fileLength() so that a friendly message is printed instead:\n"
      ],
      "metadata": {
        "id": "hIb1I5InViOS"
      }
    },
    {
      "cell_type": "code",
      "source": [
        "def fileLength(file_name):\n",
        "    try:\n",
        "        with open(file_name, 'r') as file:\n",
        "            contents = file.read()\n",
        "            length = len(contents)\n",
        "            return length\n",
        "    except FileNotFoundError:\n",
        "        return \"File \" + file_name + \" not found\"\n",
        "\n",
        "length = fileLength('intro.txt')\n",
        "print(length)"
      ],
      "metadata": {
        "colab": {
          "base_uri": "https://localhost:8080/"
        },
        "id": "krogzDBdWASe",
        "outputId": "6dfc6f6e-5fd4-4180-ef36-e46220686c60"
      },
      "execution_count": 5,
      "outputs": [
        {
          "output_type": "stream",
          "name": "stdout",
          "text": [
            "22\n"
          ]
        }
      ]
    },
    {
      "cell_type": "code",
      "source": [
        "length = fileLength('intro.txt')\n",
        "print(length)"
      ],
      "metadata": {
        "colab": {
          "base_uri": "https://localhost:8080/"
        },
        "id": "WeU_MfcwWx_C",
        "outputId": "4f5d70d4-5e47-4673-de7a-8a58a734c71b"
      },
      "execution_count": 6,
      "outputs": [
        {
          "output_type": "stream",
          "name": "stdout",
          "text": [
            "22\n"
          ]
        }
      ]
    },
    {
      "cell_type": "markdown",
      "source": [
        "***QUESTION 3***"
      ],
      "metadata": {
        "id": "PxUIEpAPW66F"
      }
    },
    {
      "cell_type": "markdown",
      "source": [
        "Write a class named Marsupial that can be used as shown below:\n",
        "\n",
        "m = Marsupial() m.put_in_pouch('doll') m.put_in_pouch('firetruck') m.put_in_pouch('kitten') m.pouch_contents() ['doll', 'firetruck', 'kitten']\n",
        "\n",
        "Now write a class named Kangaroo as a subclass of Marsupial that inherits all the attributes of Marsupial and also: a. extends the Marsupial init constructor to take, as input, the coordinates x and y of the Kangaroo object, b. supports method jump that takes number values dx and dy as input and moves the kangaroo by dx units along the x-axis and by dy units along the y- axis, and c. overloads the str operator so it behaves as shown below.\n",
        "\n",
        "k = Kangaroo(0,0) print(k) I am a Kangaroo located at coordinates (0,0) k.put_in_pouch('doll') k.put_in_pouch('firetruck') k.put_in_pouch('kitten') k.pouch_contents() ['doll', 'firetruck', 'kitten'] k.jump(1,0) k.jump(1,0) k.jump(1,0) print(k) I am a Kangaroo located at coordinates (3,0)"
      ],
      "metadata": {
        "id": "VvLULnSnW7WM"
      }
    },
    {
      "cell_type": "code",
      "source": [
        "class Marsupial:\n",
        "    def __init__(self):\n",
        "        self.pouch = []\n",
        "\n",
        "    def put_in_pouch(self, item):\n",
        "        self.pouch.append(item)\n",
        "\n",
        "    def pouch_contents(self):\n",
        "        return self.pouch\n",
        "\n",
        "\n",
        "class Kangaroo(Marsupial):\n",
        "    def __init__(self, x, y):\n",
        "        super().__init__()\n",
        "        self.x = x\n",
        "        self.y = y\n",
        "\n",
        "    def jump(self, dx, dy):\n",
        "        self.x += dx\n",
        "        self.y += dy\n",
        "\n",
        "    def __str__(self):\n",
        "        return \"I am a Kangaroo located at coordinates ({self.x},{self.y})\""
      ],
      "metadata": {
        "id": "oYEaf6wwXFEM"
      },
      "execution_count": 7,
      "outputs": []
    },
    {
      "cell_type": "code",
      "source": [
        "m = Marsupial()\n",
        "m.put_in_pouch('doll')\n",
        "m.put_in_pouch('firetruck')\n",
        "m.put_in_pouch('kitten')\n",
        "print(m.pouch_contents())"
      ],
      "metadata": {
        "colab": {
          "base_uri": "https://localhost:8080/"
        },
        "id": "cTfRqLS7XLbW",
        "outputId": "4e92412f-ec28-4bab-db34-b3ff9d0a3829"
      },
      "execution_count": 8,
      "outputs": [
        {
          "output_type": "stream",
          "name": "stdout",
          "text": [
            "['doll', 'firetruck', 'kitten']\n"
          ]
        }
      ]
    },
    {
      "cell_type": "code",
      "source": [
        "k = Kangaroo(0, 0)\n",
        "print(k)\n",
        "\n",
        "k.put_in_pouch('doll')\n",
        "k.put_in_pouch('firetruck')\n",
        "k.put_in_pouch('kitten')\n",
        "print(k.pouch_contents())\n",
        "k.jump(1, 0)\n",
        "k.jump(1, 0)\n",
        "k.jump(1, 0)\n",
        "print(k)"
      ],
      "metadata": {
        "colab": {
          "base_uri": "https://localhost:8080/"
        },
        "id": "SXh4aO0-XRpC",
        "outputId": "535b3a2b-0a52-4673-b0bb-8eded16aadb0"
      },
      "execution_count": 9,
      "outputs": [
        {
          "output_type": "stream",
          "name": "stdout",
          "text": [
            "I am a Kangaroo located at coordinates ({self.x},{self.y})\n",
            "['doll', 'firetruck', 'kitten']\n",
            "I am a Kangaroo located at coordinates ({self.x},{self.y})\n"
          ]
        }
      ]
    },
    {
      "cell_type": "markdown",
      "source": [
        "***QUESTION 4***"
      ],
      "metadata": {
        "id": "kVMPm5aIXVYs"
      }
    },
    {
      "cell_type": "markdown",
      "source": [
        "Write function collatz() that takes a positive integer x as input and prints the Collatz sequence starting at x. A Collatz sequence is obtained by repeatedly applying this rule to the previous number x in the sequence:\n",
        "\n",
        "x = 𝑥/2 ,𝑖𝑓 𝑥 𝑖𝑠 𝑒𝑣𝑒𝑛\n",
        "\n",
        "x = 3𝑥 + 1 ,𝑖𝑓 𝑥 𝑖𝑠 𝑜𝑑𝑑\n",
        "\n",
        "Your function should stop when the sequence gets to number 1. Your implementation must be recursive, without any loops."
      ],
      "metadata": {
        "id": "Xeo1ie99XV0p"
      }
    },
    {
      "cell_type": "code",
      "source": [
        "def collatz(x):\n",
        "    print(x)\n",
        "    if x == 1:\n",
        "        return\n",
        "    elif x % 2 == 0:\n",
        "        collatz(x // 2)\n",
        "    else:\n",
        "        collatz(3 * x + 1)"
      ],
      "metadata": {
        "id": "jx5uF8zGXdEo"
      },
      "execution_count": 10,
      "outputs": []
    },
    {
      "cell_type": "code",
      "source": [
        "collatz(1)"
      ],
      "metadata": {
        "colab": {
          "base_uri": "https://localhost:8080/"
        },
        "id": "mBJz08XJXjzX",
        "outputId": "4d0378c0-acbd-4c90-8a9a-f905240a58ac"
      },
      "execution_count": 11,
      "outputs": [
        {
          "output_type": "stream",
          "name": "stdout",
          "text": [
            "1\n"
          ]
        }
      ]
    },
    {
      "cell_type": "code",
      "source": [
        "collatz(10)"
      ],
      "metadata": {
        "colab": {
          "base_uri": "https://localhost:8080/"
        },
        "id": "vdx2exZTXlT_",
        "outputId": "adb899bc-4109-4460-d0ad-071f71ed314c"
      },
      "execution_count": 12,
      "outputs": [
        {
          "output_type": "stream",
          "name": "stdout",
          "text": [
            "10\n",
            "5\n",
            "16\n",
            "8\n",
            "4\n",
            "2\n",
            "1\n"
          ]
        }
      ]
    },
    {
      "cell_type": "code",
      "source": [
        "collatz(11)"
      ],
      "metadata": {
        "colab": {
          "base_uri": "https://localhost:8080/"
        },
        "id": "gCRgAmd7XoIM",
        "outputId": "471f4877-ac4b-4a46-e8ac-fc28ac0a9257"
      },
      "execution_count": 13,
      "outputs": [
        {
          "output_type": "stream",
          "name": "stdout",
          "text": [
            "11\n",
            "34\n",
            "17\n",
            "52\n",
            "26\n",
            "13\n",
            "40\n",
            "20\n",
            "10\n",
            "5\n",
            "16\n",
            "8\n",
            "4\n",
            "2\n",
            "1\n"
          ]
        }
      ]
    },
    {
      "cell_type": "markdown",
      "source": [
        "***QUESTION 5***"
      ],
      "metadata": {
        "id": "Mh8w9aSEXzTX"
      }
    },
    {
      "cell_type": "markdown",
      "source": [
        "Write a recursive method binary() that takes a non-negative integer n and prints the binary representation of integer n.\n",
        "\n",
        "binary(0) 0\n",
        "\n",
        "binary(1) 1\n",
        "\n",
        "binary(3) 11\n",
        "\n",
        "binary(9) 1001"
      ],
      "metadata": {
        "id": "9J6DGcl-Xzum"
      }
    },
    {
      "cell_type": "code",
      "source": [
        "def binary(n):\n",
        "    if n == 0:\n",
        "        return n\n",
        "    binary(n // 2)\n",
        "    print(n % 2, end='')"
      ],
      "metadata": {
        "id": "jI8gzM0IX6se"
      },
      "execution_count": 14,
      "outputs": []
    },
    {
      "cell_type": "code",
      "source": [
        "binary(0)"
      ],
      "metadata": {
        "colab": {
          "base_uri": "https://localhost:8080/"
        },
        "id": "3-iGUHwBX-5s",
        "outputId": "8fc022e8-1e08-4d82-f7b0-3d151952852d"
      },
      "execution_count": 15,
      "outputs": [
        {
          "output_type": "execute_result",
          "data": {
            "text/plain": [
              "0"
            ]
          },
          "metadata": {},
          "execution_count": 15
        }
      ]
    },
    {
      "cell_type": "code",
      "source": [
        "binary(1)"
      ],
      "metadata": {
        "colab": {
          "base_uri": "https://localhost:8080/"
        },
        "id": "nJDdmAdkYJ3s",
        "outputId": "e9618232-433e-4020-d7bd-90603d5db096"
      },
      "execution_count": 16,
      "outputs": [
        {
          "output_type": "stream",
          "name": "stdout",
          "text": [
            "1"
          ]
        }
      ]
    },
    {
      "cell_type": "code",
      "source": [
        "binary(3)"
      ],
      "metadata": {
        "colab": {
          "base_uri": "https://localhost:8080/"
        },
        "id": "dCCM9es6YMis",
        "outputId": "0615447f-f327-451a-9b03-cf19152768c1"
      },
      "execution_count": 17,
      "outputs": [
        {
          "output_type": "stream",
          "name": "stdout",
          "text": [
            "11"
          ]
        }
      ]
    },
    {
      "cell_type": "code",
      "source": [
        "binary(9)"
      ],
      "metadata": {
        "colab": {
          "base_uri": "https://localhost:8080/"
        },
        "id": "ShX56tQTYP6B",
        "outputId": "451df3b0-8775-4cb4-b417-eb1e4c2d8a62"
      },
      "execution_count": 18,
      "outputs": [
        {
          "output_type": "stream",
          "name": "stdout",
          "text": [
            "1001"
          ]
        }
      ]
    },
    {
      "cell_type": "code",
      "source": [
        "binary(567)"
      ],
      "metadata": {
        "colab": {
          "base_uri": "https://localhost:8080/"
        },
        "id": "6oS9GmmzYSeI",
        "outputId": "178382fc-e9e9-470b-e50f-528fb8daf8d4"
      },
      "execution_count": 19,
      "outputs": [
        {
          "output_type": "stream",
          "name": "stdout",
          "text": [
            "1000110111"
          ]
        }
      ]
    },
    {
      "cell_type": "markdown",
      "source": [
        "***QUESTION 6***"
      ],
      "metadata": {
        "id": "Q368WyZTYWpM"
      }
    },
    {
      "cell_type": "markdown",
      "source": [
        "Implement a class named HeadingParser that can be used to parse an HTML document, and retrieve and print all the headings in the document. You should implement your class as a subclass of HTMLParser, defined in Standard Library module html.parser. When fed a string containing HTML code, your class should print the headings, one per line and in the order in which they appear in the document. Each heading should be indented as follows: an h1 heading should have indentation 0, and h2 heading should have indentation 1, etc. Test your implementation using w3c.html."
      ],
      "metadata": {
        "id": "-LK39an1YXMa"
      }
    },
    {
      "cell_type": "code",
      "source": [
        "from html.parser import HTMLParser\n",
        "\n",
        "\n",
        "class HeadingParser(HTMLParser):\n",
        "    def __init__(self):\n",
        "        super().__init__()\n",
        "        self.indentation = 0\n",
        "\n",
        "    def handle_starttag(self, tag, attrs):\n",
        "        if tag.startswith('h'):\n",
        "            try:\n",
        "                self.indentation = int(tag[1:]) - 1\n",
        "            except ValueError:\n",
        "                # Ignore if the tag does not have a numeric value\n",
        "                pass\n",
        "\n",
        "    def handle_endtag(self, tag):\n",
        "        if tag.startswith('h'):\n",
        "            self.indentation = 0\n",
        "\n",
        "    def handle_data(self, data):\n",
        "        if data.strip() and self.indentation >= 0:\n",
        "            print('  ' * self.indentation + data.strip())\n",
        "\n",
        "\n",
        "# Test the implementation\n",
        "with open('intro.html', 'r') as file:\n",
        "    html_data = file.read()\n",
        "\n",
        "parser = HeadingParser()\n",
        "parser.feed(html_data)\n"
      ],
      "metadata": {
        "colab": {
          "base_uri": "https://localhost:8080/"
        },
        "id": "_XL7hJFyYfeB",
        "outputId": "d6a2f7fc-59c4-4ea6-d971-66b6cfbcee4d"
      },
      "execution_count": 24,
      "outputs": [
        {
          "output_type": "stream",
          "name": "stdout",
          "text": [
            "Change_me\n",
            "W3C Mission\n",
            "  Principles\n"
          ]
        }
      ]
    },
    {
      "cell_type": "markdown",
      "source": [
        "***QUESTION 7***"
      ],
      "metadata": {
        "id": "CPSzYavyaaZL"
      }
    },
    {
      "cell_type": "markdown",
      "source": [
        "Implement recursive function webdir() that takes as input: a URL (as a string) and non-negative integers depth and indent. Your function should visit every web page reachable from the starting URL web page in depth clicks or less, and print each web page's URL. As shown below, indentation, specified by indent, should be used to indicate the depth of a URL."
      ],
      "metadata": {
        "id": "-pqnVESBabAP"
      }
    },
    {
      "cell_type": "code",
      "source": [
        "import requests\n",
        "from bs4 import BeautifulSoup\n",
        "\n",
        "def webdir(url, depth, indent=0):\n",
        "    if depth <0: #If depth is 0, terminate the recursion as there is no depth.\n",
        "        return\n",
        "\n",
        "    response = requests.get(url)\n",
        "    soup = BeautifulSoup(response.text, 'html.parser')\n",
        "\n",
        "    print(' ' * indent + url)\n",
        "    if depth == 0:\n",
        "        return\n",
        "    links = soup.find_all('a')\n",
        "    for link in links:\n",
        "        href = link.get('href')\n",
        "        if href and not href.startswith('http'):\n",
        "            href = url + href.strip('/')\n",
        "        webdir(href, depth - 1, indent + 1)\n",
        "\n",
        "webdir('http://reed.cs.depaul.edu/lperkovic/csc242/lecture1/', 2, 0)"
      ],
      "metadata": {
        "colab": {
          "base_uri": "https://localhost:8080/"
        },
        "id": "g-7CkWnMajtn",
        "outputId": "338f55ba-94f0-4ebf-8f41-67947ed6ac66"
      },
      "execution_count": 25,
      "outputs": [
        {
          "output_type": "stream",
          "name": "stdout",
          "text": [
            "http://reed.cs.depaul.edu/lperkovic/csc242/lecture1/\n",
            " http://reed.cs.depaul.edu/lperkovic/csc242/lecture1/Ch7.pptx\n",
            " http://reed.cs.depaul.edu/lperkovic/csc242/lecture1/caseStudy6/blackjack.py\n",
            " http://reed.cs.depaul.edu/lperkovic/csc242/lecture1/emoticon.py\n",
            " http://reed.cs.depaul.edu/lperkovic/csc242/lecture1/chapter7.zip\n"
          ]
        }
      ]
    },
    {
      "cell_type": "markdown",
      "source": [
        "***QUESTION 8***"
      ],
      "metadata": {
        "id": "kzLbuPPcank5"
      }
    },
    {
      "cell_type": "markdown",
      "source": [
        "Write SQL queries on the below database table that return:\n",
        "\n",
        "a) All the temperature data.\n",
        "\n",
        "b) All the cities, but without repetition.\n",
        "\n",
        "c) All the records for India.\n",
        "\n",
        "d) All the Fall records.\n",
        "\n",
        "e) The city, country, and season for which the average rainfall is between 200 and 400 millimeters.\n",
        "\n",
        "f) The city and country for which the average Fall temperature is above 20 degrees, in increasing temperature order.\n",
        "\n",
        "g) The total annual rainfall for Cairo.\n",
        "\n",
        "h) The total rainfall for each season."
      ],
      "metadata": {
        "id": "Gx0GMfzmaoBh"
      }
    },
    {
      "cell_type": "code",
      "source": [
        "import sqlite3\n",
        "\n",
        "# Connect to the database\n",
        "conn = sqlite3.connect('temp_data.db')\n",
        "cursor = conn.cursor()\n",
        "\n",
        "# Create the temperature_data table\n",
        "cursor.execute('''CREATE TABLE temp_data (\n",
        "                    City TEXT,\n",
        "                    Country TEXT,\n",
        "                    Season TEXT,\n",
        "                    Temperature FLOAT,\n",
        "                    Rainfall FLOAT\n",
        "                )''')\n",
        "\n",
        "# Commit the changes and close the connection\n",
        "conn.commit()"
      ],
      "metadata": {
        "id": "Pd4KJNz5avYT"
      },
      "execution_count": 26,
      "outputs": []
    },
    {
      "cell_type": "code",
      "source": [
        "import sqlite3\n",
        "\n",
        "# Connect to the database\n",
        "conn = sqlite3.connect('temp_data.db')\n",
        "cursor = conn.cursor()\n",
        "\n",
        "# Insert data into the temperature_data table\n",
        "temp_data = [\n",
        "   (\"Delhi\",\"India\",\"Winter\",24.8,5.9),\n",
        "   (\"Surat\",\"India\",\"Spring\",28.4,16.2),\n",
        "   (\"Hyderabad\",\"India\",\"Summer\",27.9,1549.4),\n",
        "   (\"Ahmedabad\",\"India\",\"Fall\",27.6,346),\n",
        "   (\"London\",\"United Kingdom\",\"Winter\",4.2,207.7),\n",
        "   (\"Manchester\",\"United Kingdom\",\"Spring\",8.3,169.6),\n",
        "   (\"Liverpool\",\"United Kingdom\",\"Summer\",15.7,157),\n",
        "   (\"Leeds\",\"United Kingdom\",\"Fall\",10.4,218.5),\n",
        "   (\"Cairo\",\"Egypt\",\"Winter\",13.6,16.5),\n",
        "   (\"Cairo\",\"Egypt\",\"Spring\",20.7,6.5),\n",
        "   (\"Cairo\",\"Egypt\",\"Summer\",27.7,0.1),\n",
        "   (\"Cairo\",\"Egypt\",\"Fall\",22.2,4.5)\n",
        "]\n",
        "\n",
        "cursor.executemany('INSERT INTO temp_data VALUES (?, ?,?,?,?)', temp_data)\n",
        "\n",
        "# Commit the changes and close the connection\n",
        "conn.commit()"
      ],
      "metadata": {
        "id": "rFTfr9Mha8TZ"
      },
      "execution_count": 28,
      "outputs": []
    },
    {
      "cell_type": "code",
      "source": [
        "import sqlite3\n",
        "\n",
        "# Connect to the database\n",
        "conn = sqlite3.connect('temp_data.db')\n",
        "cursor = conn.cursor()\n",
        "\n",
        "# Execute the query\n",
        "cursor.execute(\"SELECT * FROM temp_data\")\n",
        "\n",
        "# Fetch all the rows\n",
        "temp_data = cursor.fetchall()\n",
        "\n",
        "# Print the temperature data\n",
        "print(\"All the temperature data\")\n",
        "print(\" \")\n",
        "for row in temp_data:\n",
        "    print(row)\n",
        "\n",
        "#conn.close()"
      ],
      "metadata": {
        "colab": {
          "base_uri": "https://localhost:8080/"
        },
        "id": "rVspVHwhbQoI",
        "outputId": "4b0093fa-acb8-43e0-eeac-d0cee57d8995"
      },
      "execution_count": 29,
      "outputs": [
        {
          "output_type": "stream",
          "name": "stdout",
          "text": [
            "All the temperature data\n",
            " \n",
            "('Delhi', 'India', 'Winter', 24.8, 5.9)\n",
            "('Surat', 'India', 'Spring', 28.4, 16.2)\n",
            "('Hyderabad', 'India', 'Summer', 27.9, 1549.4)\n",
            "('Ahmedabad', 'India', 'Fall', 27.6, 346.0)\n",
            "('London', 'United Kingdom', 'Winter', 4.2, 207.7)\n",
            "('Manchester', 'United Kingdom', 'Spring', 8.3, 169.6)\n",
            "('Liverpool', 'United Kingdom', 'Summer', 15.7, 157.0)\n",
            "('Leeds', 'United Kingdom', 'Fall', 10.4, 218.5)\n",
            "('Cairo', 'Egypt', 'Winter', 13.6, 16.5)\n",
            "('Cairo', 'Egypt', 'Spring', 20.7, 6.5)\n",
            "('Cairo', 'Egypt', 'Summer', 27.7, 0.1)\n",
            "('Cairo', 'Egypt', 'Fall', 22.2, 4.5)\n"
          ]
        }
      ]
    },
    {
      "cell_type": "code",
      "source": [
        "# b) All the cities, but without repetition\n",
        "cursor.execute(\"SELECT DISTINCT City FROM temp_data\")\n",
        "cities = cursor.fetchall()\n",
        "print(\"\\nCities:\")\n",
        "for city in cities:\n",
        "    print(city[0])"
      ],
      "metadata": {
        "colab": {
          "base_uri": "https://localhost:8080/"
        },
        "id": "U-eWDb_6bZQn",
        "outputId": "1dca036c-2b37-4aec-a754-e149839424d7"
      },
      "execution_count": 30,
      "outputs": [
        {
          "output_type": "stream",
          "name": "stdout",
          "text": [
            "\n",
            "Cities:\n",
            "Delhi\n",
            "Surat\n",
            "Hyderabad\n",
            "Ahmedabad\n",
            "London\n",
            "Manchester\n",
            "Liverpool\n",
            "Leeds\n",
            "Cairo\n"
          ]
        }
      ]
    },
    {
      "cell_type": "code",
      "source": [
        "# c) All the records for India\n",
        "cursor.execute(\"SELECT * FROM temp_data WHERE Country = 'India'\")\n",
        "india_records = cursor.fetchall()\n",
        "print(\"\\nRecords for India:\")\n",
        "for record in india_records:\n",
        "    print(record)"
      ],
      "metadata": {
        "colab": {
          "base_uri": "https://localhost:8080/"
        },
        "id": "xrGXFGTjbeA_",
        "outputId": "a38ab169-5dff-4f56-e4f5-fdd2c4e348b4"
      },
      "execution_count": 31,
      "outputs": [
        {
          "output_type": "stream",
          "name": "stdout",
          "text": [
            "\n",
            "Records for India:\n",
            "('Delhi', 'India', 'Winter', 24.8, 5.9)\n",
            "('Surat', 'India', 'Spring', 28.4, 16.2)\n",
            "('Hyderabad', 'India', 'Summer', 27.9, 1549.4)\n",
            "('Ahmedabad', 'India', 'Fall', 27.6, 346.0)\n"
          ]
        }
      ]
    },
    {
      "cell_type": "code",
      "source": [
        "# d) All the Fall records\n",
        "cursor.execute(\"SELECT * FROM temp_data WHERE Season = 'Fall'\")\n",
        "fall_records = cursor.fetchall()\n",
        "print(\"\\nFall Records:\")\n",
        "for record in fall_records:\n",
        "    print(record)"
      ],
      "metadata": {
        "colab": {
          "base_uri": "https://localhost:8080/"
        },
        "id": "KKMUnTMmbk8m",
        "outputId": "56bc0824-a039-4016-8f3b-68a6c87c1abe"
      },
      "execution_count": 32,
      "outputs": [
        {
          "output_type": "stream",
          "name": "stdout",
          "text": [
            "\n",
            "Fall Records:\n",
            "('Ahmedabad', 'India', 'Fall', 27.6, 346.0)\n",
            "('Leeds', 'United Kingdom', 'Fall', 10.4, 218.5)\n",
            "('Cairo', 'Egypt', 'Fall', 22.2, 4.5)\n"
          ]
        }
      ]
    },
    {
      "cell_type": "code",
      "source": [
        "# e) The city, country, and season for which the average rainfall is between 200 and 400 millimeters\n",
        "cursor.execute(\"SELECT City, Country, Season, Temperature FROM temp_data WHERE Rainfall BETWEEN 200 AND 400\")\n",
        "rainfall_records = cursor.fetchall()\n",
        "print(\"\\nRainfall Records (200-400mm):\")\n",
        "for record in rainfall_records:\n",
        "    print(record)"
      ],
      "metadata": {
        "colab": {
          "base_uri": "https://localhost:8080/"
        },
        "id": "MHbmpts1bqdS",
        "outputId": "e46b7af6-aebc-4bd6-c7dd-779ddbdd7629"
      },
      "execution_count": 33,
      "outputs": [
        {
          "output_type": "stream",
          "name": "stdout",
          "text": [
            "\n",
            "Rainfall Records (200-400mm):\n",
            "('Ahmedabad', 'India', 'Fall', 27.6)\n",
            "('London', 'United Kingdom', 'Winter', 4.2)\n",
            "('Leeds', 'United Kingdom', 'Fall', 10.4)\n"
          ]
        }
      ]
    },
    {
      "cell_type": "code",
      "source": [
        "# f) The city and country for which the average Fall temperature is above 20 degrees, in increasing temperature order\n",
        "cursor.execute(\"SELECT City, Country FROM temp_data WHERE Season = 'Fall' AND Temperature > 20 ORDER BY Temperature ASC\")\n",
        "temperature_above_20 = cursor.fetchall()\n",
        "print(\"\\nCities with Average Fall Temperature > 20:\")\n",
        "for record in temperature_above_20:\n",
        "    print(record)"
      ],
      "metadata": {
        "colab": {
          "base_uri": "https://localhost:8080/"
        },
        "id": "uBrPg9s6br_q",
        "outputId": "7cde18e1-db52-44d3-99e5-119a7ef1bdd5"
      },
      "execution_count": 34,
      "outputs": [
        {
          "output_type": "stream",
          "name": "stdout",
          "text": [
            "\n",
            "Cities with Average Fall Temperature > 20:\n",
            "('Cairo', 'Egypt')\n",
            "('Ahmedabad', 'India')\n"
          ]
        }
      ]
    },
    {
      "cell_type": "code",
      "source": [
        "# g) The total annual rainfall for Cairo\n",
        "cursor.execute(\"SELECT SUM(Rainfall) AS TotalRainfall FROM temp_data WHERE City = 'Cairo'\")\n",
        "total_rainfall_cairo = cursor.fetchone()[0]\n",
        "print(\"\\nTotal Annual Rainfall for Cairo:\", total_rainfall_cairo)"
      ],
      "metadata": {
        "colab": {
          "base_uri": "https://localhost:8080/"
        },
        "id": "DBz2YhVtbu6l",
        "outputId": "a3788433-eb81-4c22-c730-e4eea6156008"
      },
      "execution_count": 35,
      "outputs": [
        {
          "output_type": "stream",
          "name": "stdout",
          "text": [
            "\n",
            "Total Annual Rainfall for Cairo: 27.6\n"
          ]
        }
      ]
    },
    {
      "cell_type": "code",
      "source": [
        "# h) The total rainfall for each season\n",
        "cursor.execute(\"SELECT Season, SUM(Rainfall) AS TotalRainfall FROM temp_data GROUP BY Season\")\n",
        "total_rainfall_seasons = cursor.fetchall()\n",
        "print(\"\\nTotal Rainfall for Each Season:\")\n",
        "for record in total_rainfall_seasons:\n",
        "    print(record)"
      ],
      "metadata": {
        "colab": {
          "base_uri": "https://localhost:8080/"
        },
        "id": "to8h6AD3b1eu",
        "outputId": "ad53ae00-6c18-46d8-ccfb-97a090a14948"
      },
      "execution_count": 36,
      "outputs": [
        {
          "output_type": "stream",
          "name": "stdout",
          "text": [
            "\n",
            "Total Rainfall for Each Season:\n",
            "('Fall', 569.0)\n",
            "('Spring', 192.29999999999998)\n",
            "('Summer', 1706.5)\n",
            "('Winter', 230.1)\n"
          ]
        }
      ]
    },
    {
      "cell_type": "code",
      "source": [
        "cursor.close()\n",
        "conn.close()"
      ],
      "metadata": {
        "id": "qLc5gqDXb52G"
      },
      "execution_count": 37,
      "outputs": []
    },
    {
      "cell_type": "markdown",
      "source": [
        "***QUESTION 9***"
      ],
      "metadata": {
        "id": "BQaD9iDgcAib"
      }
    },
    {
      "cell_type": "markdown",
      "source": [
        "Suppose list words is defined as follows:\n",
        "\n",
        "words = ['The', 'quick', 'brown', 'fox', 'jumps', 'over', 'the', 'lazy', 'dog']\n",
        "\n",
        "Write list comprehension expressions that use list words and generate the following\n",
        "\n",
        "lists:\n",
        "\n",
        "a) ['THE', 'QUICK', 'BROWN', 'FOX', 'JUMPS', 'OVER', 'THE', 'LAZY', 'DOG']\n",
        "\n",
        "b) ['the', 'quick', 'brown', 'fox', 'jumps', 'over', 'the', 'lazy', 'dog']\n",
        "\n",
        "c) [3, 5, 5, 3, 5, 4, 3, 4, 3] (the list of lengths of words in list words).\n",
        "\n",
        "d) [['THE', 'the', 3], ['QUICK', 'quick', 5], ['BROWN', 'brown', 5], ['FOX', 'fox', 3], ['JUMPS', 'jumps', 5], ['OVER', 'over', 4], ['THE', 'the', 3], ['LAZY', 'lazy', 4], ['DOG', 'dog', 3]] (the list containing a list for every word of list words, where each list contains the word in uppercase and lowercase and the length of the word.)\n",
        "\n",
        "e) ['The', 'quick', 'brown', 'fox', 'jumps', 'over', 'the', 'lazy', 'dog'] (the list of words in list words containing 4 or more characters.)"
      ],
      "metadata": {
        "id": "EaHX6Fu4cA5K"
      }
    },
    {
      "cell_type": "code",
      "source": [
        "words = ['The', 'quick', 'brown', 'fox', 'jumps', 'over', 'the','lazy','dog']"
      ],
      "metadata": {
        "id": "9D5J6k2BcFR-"
      },
      "execution_count": 38,
      "outputs": []
    },
    {
      "cell_type": "markdown",
      "source": [
        "a) ['THE', 'QUICK', 'BROWN', 'FOX', 'JUMPS', 'OVER', 'THE', 'LAZY', 'DOG']"
      ],
      "metadata": {
        "id": "1caGDplrcSiS"
      }
    },
    {
      "cell_type": "code",
      "source": [
        "words_upper = [word.upper() for word in words]\n",
        "print(words_upper)"
      ],
      "metadata": {
        "colab": {
          "base_uri": "https://localhost:8080/"
        },
        "id": "Csf6obZ7cS-9",
        "outputId": "37ba5c31-2fd3-4e81-fc73-3e03753b7f43"
      },
      "execution_count": 40,
      "outputs": [
        {
          "output_type": "stream",
          "name": "stdout",
          "text": [
            "['THE', 'QUICK', 'BROWN', 'FOX', 'JUMPS', 'OVER', 'THE', 'LAZY', 'DOG']\n"
          ]
        }
      ]
    },
    {
      "cell_type": "markdown",
      "source": [
        "(b) ['the', 'quick', 'brown', 'fox', 'jumps', 'over', 'the', 'lazy', 'dog']"
      ],
      "metadata": {
        "id": "ubeFa_Rscg1x"
      }
    },
    {
      "cell_type": "code",
      "source": [
        "unchanged_words = [word for word in words]\n",
        "print(unchanged_words)"
      ],
      "metadata": {
        "colab": {
          "base_uri": "https://localhost:8080/"
        },
        "id": "qwdl-ToFcrJn",
        "outputId": "ec33c61e-23ec-4554-ffd5-48fd5209cd2b"
      },
      "execution_count": 41,
      "outputs": [
        {
          "output_type": "stream",
          "name": "stdout",
          "text": [
            "['The', 'quick', 'brown', 'fox', 'jumps', 'over', 'the', 'lazy', 'dog']\n"
          ]
        }
      ]
    },
    {
      "cell_type": "markdown",
      "source": [
        "c) [3, 5, 5, 3, 5, 4, 3, 4, 3] (the list of lengths of words in list words)."
      ],
      "metadata": {
        "id": "d6nYIkeicrzq"
      }
    },
    {
      "cell_type": "code",
      "source": [
        "word_lengths = [len(word) for word in words]\n",
        "print(word_lengths)"
      ],
      "metadata": {
        "colab": {
          "base_uri": "https://localhost:8080/"
        },
        "id": "lP_nOy7-csWa",
        "outputId": "0eb9ef2d-88f9-4567-ec61-9f6ffad56c22"
      },
      "execution_count": 42,
      "outputs": [
        {
          "output_type": "stream",
          "name": "stdout",
          "text": [
            "[3, 5, 5, 3, 5, 4, 3, 4, 3]\n"
          ]
        }
      ]
    },
    {
      "cell_type": "markdown",
      "source": [
        "d) [['THE', 'the', 3], ['QUICK', 'quick', 5], ['BROWN', 'brown', 5], ['FOX', 'fox', 3], ['JUMPS', 'jumps', 5], ['OVER', 'over', 4], ['THE', 'the', 3], ['LAZY', 'lazy', 4], ['DOG', 'dog', 3]] (the list containing a list for every word of list words, where each list contains the word in uppercase and lowercase and the length of the word.)"
      ],
      "metadata": {
        "id": "aPCZpKFxctGS"
      }
    },
    {
      "cell_type": "code",
      "source": [
        "word_info = [[word.upper(), word.lower(), len(word)] for word in words]\n",
        "print(word_info)\n"
      ],
      "metadata": {
        "colab": {
          "base_uri": "https://localhost:8080/"
        },
        "id": "lVFHuK4Bctmn",
        "outputId": "cebbc851-74fa-4783-bae4-387876604bbc"
      },
      "execution_count": 43,
      "outputs": [
        {
          "output_type": "stream",
          "name": "stdout",
          "text": [
            "[['THE', 'the', 3], ['QUICK', 'quick', 5], ['BROWN', 'brown', 5], ['FOX', 'fox', 3], ['JUMPS', 'jumps', 5], ['OVER', 'over', 4], ['THE', 'the', 3], ['LAZY', 'lazy', 4], ['DOG', 'dog', 3]]\n"
          ]
        }
      ]
    },
    {
      "cell_type": "markdown",
      "source": [
        " ['The', 'quick', 'brown', 'fox', 'jumps', 'over', 'the', 'lazy', 'dog'] (the list of words in list words containing 4 or more characters.)"
      ],
      "metadata": {
        "id": "ENEp1SyHc8PH"
      }
    },
    {
      "cell_type": "code",
      "source": [
        "filtered_words = [word for word in words if len(word) >= 4]\n",
        "print(filtered_words)"
      ],
      "metadata": {
        "colab": {
          "base_uri": "https://localhost:8080/"
        },
        "id": "hBMscLfic8wC",
        "outputId": "61245c6a-4e5a-4749-c2bc-43af69d7eb37"
      },
      "execution_count": 45,
      "outputs": [
        {
          "output_type": "stream",
          "name": "stdout",
          "text": [
            "['quick', 'brown', 'jumps', 'over', 'lazy']\n"
          ]
        }
      ]
    }
  ]
}